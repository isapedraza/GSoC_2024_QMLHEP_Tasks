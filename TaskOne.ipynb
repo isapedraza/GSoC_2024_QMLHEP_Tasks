{
  "nbformat": 4,
  "nbformat_minor": 0,
  "metadata": {
    "colab": {
      "provenance": [],
      "authorship_tag": "ABX9TyPN+BexpJ9EMUXAKZu4zcJm",
      "include_colab_link": true
    },
    "kernelspec": {
      "name": "python3",
      "display_name": "Python 3"
    },
    "language_info": {
      "name": "python"
    }
  },
  "cells": [
    {
      "cell_type": "markdown",
      "metadata": {
        "id": "view-in-github",
        "colab_type": "text"
      },
      "source": [
        "<a href=\"https://colab.research.google.com/github/isapedraza/GSoC_2024_QMLHEP_Tasks/blob/main/TaskOne.ipynb\" target=\"_parent\"><img src=\"https://colab.research.google.com/assets/colab-badge.svg\" alt=\"Open In Colab\"/></a>"
      ]
    },
    {
      "cell_type": "markdown",
      "source": [
        "Task I: Quantum Computing Part\n",
        "\n",
        "1) implement a simple quantum operation with Cirq or Pennylane\n",
        "a) With 5 qubits\n",
        "b) Apply Hadamard operation on every qubit\n",
        "c) Apply CNOT operation on (0, 1), (1,2), (2,3), (3,4)\n",
        "d) SWAP (0, 4)\n",
        "e) Rotate X with pi/2 on any qubit\n",
        "f) Plot the circuit\n",
        "\n",
        "\n",
        "\n"
      ],
      "metadata": {
        "id": "08Zz8AAVP8ED"
      }
    },
    {
      "cell_type": "code",
      "source": [
        "!pip install cirq"
      ],
      "metadata": {
        "id": "i8UlOqbtQPQE"
      },
      "execution_count": null,
      "outputs": []
    },
    {
      "cell_type": "code",
      "execution_count": 3,
      "metadata": {
        "colab": {
          "base_uri": "https://localhost:8080/"
        },
        "id": "Z2Lxk6tSP3Nm",
        "outputId": "16f24069-782f-4ecb-94d2-0fdaa8a77807"
      },
      "outputs": [
        {
          "output_type": "stream",
          "name": "stdout",
          "text": [
            "Circuit:\n",
            "0: ───H───@───────────────×───Rx(0.5π)───\n",
            "          │               │\n",
            "1: ───H───X───@───────────┼──────────────\n",
            "              │           │\n",
            "2: ───H───────X───@───────┼──────────────\n",
            "                  │       │\n",
            "3: ───H───────────X───@───┼──────────────\n",
            "                      │   │\n",
            "4: ───H───────────────X───×──────────────\n"
          ]
        }
      ],
      "source": [
        "import cirq\n",
        "import numpy as np\n",
        "\n",
        "# 1) Create a quantum circuit with 5 qubits\n",
        "qubits = cirq.LineQubit.range(5)\n",
        "\n",
        "# 2) Create a circuit\n",
        "circuit = cirq.Circuit()\n",
        "\n",
        "# b) Apply Hadamard operation on every qubit\n",
        "circuit.append(cirq.H(q) for q in qubits)\n",
        "\n",
        "# c) Apply CNOT operation on (0, 1), (1, 2), (2, 3), (3, 4)\n",
        "circuit.append([cirq.CNOT(qubits[i], qubits[i+1]) for i in range(4)])\n",
        "\n",
        "# d) SWAP (0, 4)\n",
        "circuit.append(cirq.SWAP(qubits[0], qubits[4]))\n",
        "\n",
        "# e) Rotate X with pi/2 on any qubit, choosing qubit 0 for this example\n",
        "circuit.append(cirq.rx(np.pi / 2).on(qubits[0]))\n",
        "\n",
        "# f) You would normally use cirq's built-in visualization for the circuit. Example:\n",
        "print(\"Circuit:\")\n",
        "print(circuit)\n",
        "\n",
        "# To plot the circuit, you can simply print it as shown above.\n",
        "# For a more graphical representation, you can use Cirq's plot method in a Jupyter notebook or another Python environment that supports graphical output.\n"
      ]
    },
    {
      "cell_type": "markdown",
      "source": [
        "2) Implement a second circuit with a framework of your choice:\n",
        "Apply a Hadmard gate to the first qubit\n",
        "rotate the second qubit by pi/3 around X\n",
        "Apply Hadamard gate to the third and fourth qubit\n",
        "Perform a swap test between the states of the first and second qubit |q1 q2> and the third and fourth qubit |q3 q4>\n",
        "\n"
      ],
      "metadata": {
        "id": "QukueEn5TsnO"
      }
    },
    {
      "cell_type": "code",
      "source": [
        "!pip install qiskit"
      ],
      "metadata": {
        "id": "u56YIR4kSSSc"
      },
      "execution_count": null,
      "outputs": []
    },
    {
      "cell_type": "code",
      "source": [
        "from qiskit import QuantumCircuit\n",
        "from qiskit.circuit.library import HGate, RXGate, SwapGate\n",
        "import numpy as np\n",
        "\n",
        "# Create a Quantum Circuit acting on a quantum register of five qubits\n",
        "# The fifth qubit is for the ancilla used in the swap test\n",
        "circuit = QuantumCircuit(5)\n",
        "\n",
        "# Apply a Hadamard gate to the first qubit\n",
        "circuit.append(HGate(), [0])\n",
        "\n",
        "# Rotate the second qubit by pi/3 around X\n",
        "circuit.append(RXGate(np.pi / 3), [1])\n",
        "\n",
        "# Apply Hadamard gate to the third and fourth qubit\n",
        "circuit.append(HGate(), [2])\n",
        "circuit.append(HGate(), [3])\n",
        "\n",
        "# Perform a swap test between the states of the first and second qubit |q1 q2> and the third and fourth qubit |q3 q4>\n",
        "# First, apply a Hadamard gate to the ancilla qubit\n",
        "circuit.h(4)\n",
        "\n",
        "# Apply controlled-swap gates (Fredkin gates) with the ancilla as control\n",
        "circuit.cswap(4, 0, 2)\n",
        "circuit.cswap(4, 1, 3)\n",
        "\n",
        "# Finally, apply another Hadamard gate to the ancilla\n",
        "circuit.h(4)\n",
        "\n",
        "# Drawing the circuit\n",
        "print(circuit.draw())\n"
      ],
      "metadata": {
        "colab": {
          "base_uri": "https://localhost:8080/"
        },
        "id": "tF0pRVBtSXJ_",
        "outputId": "78c657ae-5c72-4473-a094-d8322c6eda04"
      },
      "execution_count": 5,
      "outputs": [
        {
          "output_type": "stream",
          "name": "stdout",
          "text": [
            "        ┌───┐              \n",
            "q_0: ───┤ H ├────X─────────\n",
            "     ┌──┴───┴──┐ │         \n",
            "q_1: ┤ Rx(π/3) ├─┼──X──────\n",
            "     └──┬───┬──┘ │  │      \n",
            "q_2: ───┤ H ├────X──┼──────\n",
            "        ├───┤    │  │      \n",
            "q_3: ───┤ H ├────┼──X──────\n",
            "        ├───┤    │  │ ┌───┐\n",
            "q_4: ───┤ H ├────■──■─┤ H ├\n",
            "        └───┘         └───┘\n"
          ]
        }
      ]
    }
  ]
}